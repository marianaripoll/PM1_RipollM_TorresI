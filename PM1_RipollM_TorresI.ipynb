{
 "cells": [
  {
   "cell_type": "code",
   "execution_count": 79,
   "metadata": {},
   "outputs": [],
   "source": [
    "import scipy.optimize as opt\n",
    "import numpy as np"
   ]
  },
  {
   "cell_type": "markdown",
   "metadata": {},
   "source": [
    "<img style=\"float: right; margin: 0px 0px 15px 15px;\" src=\"https://upload.wikimedia.org/wikipedia/commons/b/b6/Proyecto_en_construccion.jpg\" width=\"300px\" height=\"100px\" />\n",
    "\n",
    "\n",
    "# Presentación de proyectos.\n",
    "**Nombres:** Mariana Ripoll e Isabella Torres\n",
    "\n",
    "**Fecha:** 20 de septiembre del 2023.\n",
    "\n",
    "**Expediente** : 747684 y \n",
    "    \n",
    "**Profesor:** Oscar David Jaramillo Zuluaga."
   ]
  },
  {
   "cell_type": "markdown",
   "metadata": {},
   "source": [
    "\n",
    "### 1.1 Toma de desiciones finacieras por medio de Ajuste de Curvas y Optimización\n",
    "> Proyecto Optimización: El proyecto consiste en optimizar la gestión de cuentas de ahorro de cinco tipos distintos en un banco para maximizar los intereses generados. Se utilizan cinco analistas financieros con límites de tiempo semanales, y el objetivo es determinar las cantidades óptimas de cuentas a gestionar de cada tipo, respetando las restricciones de tiempo, para obtener el mayor rendimiento financiero. Se emplea la programación lineal como herramienta para tomar decisiones eficientes en la inversión de recursos.\n",
    "\n",
    "### 1.2 Objetivos.\n",
    "\n",
    "> #### 1.1 Objetivo general.\n",
    ">  - Proyecto Optimización: \n",
    "Maximizar los ingresos por intereses a través de una gestión eficiente de cuentas de ahorro en el banco, considerando las restricciones de tiempo de los analistas financieros y los rendimientos de las cuentas.\n",
    "\n",
    "> #### 1.2 Objetivos específicos\n",
    ">  - Proyecto Optimización: \n",
    "Determinar la cantidad óptima de cuentas de ahorro de cada tipo que deben ser gestionadas para maximizar los intereses generados.\n",
    "Utilizar la programación lineal como herramienta para modelar y resolver el problema de asignación de recursos.\n",
    "Garantizar que las restricciones de tiempo de los analistas financieros se cumplan de manera efectiva en la asignación de cuentas.\n",
    "\n",
    "\n",
    "\n",
    "\n",
    "\n",
    "Referencia:\n",
    "- https://es.slideshare.net/rosbur/metodologia-objetivos-generales-y-especficos\n",
    "\n",
    "### 1.3 Introducción\n",
    "Un banco ofrece cinco tipos de cuentas de ahorro: A, B, C, D y E, que ofrecen tasas de interés anuales del 3%, 4%, 3.5%, 2.8% y 3.2%, respectivamente.\n",
    "\n",
    "El banco emplea a cinco analistas financieros para gestionar las inversiones en estas cuentas. Cada analista tiene un límite de tiempo disponible semanal para gestionar estas cuentas, que son 20, 15, 18, 16 y 19 horas, respectivamente.\n",
    "\n",
    "Cada tipo de cuenta requiere una cantidad diferente de tiempo para ser gestionada por los analistas financieros. Los tiempos requeridos para cada tipo de cuenta son los siguientes:\n",
    "\n",
    "| Restricción                    | Cuenta A | Cuenta B | Cuenta C | Cuenta D | Cuenta E |\n",
    "|--------------------------------|----------|----------|----------|----------|----------|\n",
    "| Restricción de inversión total |   3      |    4     |   3.5    |   2.8    |   3.2    |\n",
    "| Restricción de tiempo (Analista 1)|   3    |    2     |    4     |   2.5    |   3.5    |\n",
    "| Restricción de tiempo (Analista 2)|   1    |    2     |    3     |   1.5    |   2      |\n",
    "| Restricción de tiempo (Analista 3)|   2    |    1     |    2     |   1      |   3      |\n",
    "| Restricción de tiempo (Analista 4)|   1    |    1     |    3     |   1      |   2.5    |\n",
    "| Restricción de tiempo (Analista 5)|   1    |    3     |    1     |   2      |   3      |\n",
    "\n",
    "\n",
    "\n",
    "\n",
    "Para simplificar la notación, utilizaremos las siguientes variables:\n",
    "\n",
    "$x_A$: Cantidad de cuentas de tipo A.\n",
    "\n",
    "$x_B$: Cantidad de cuentas de tipo B.\n",
    "\n",
    "$x_C$: Cantidad de cuentas de tipo C.\n",
    "\n",
    "$x_D$: Cantidad de cuentas de tipo D.\n",
    "\n",
    "$x_E$: Cantidad de cuentas de tipo E.\n",
    "\n",
    "\n",
    "\n",
    "### 1.4 Modelo que representa el problema.\n",
    "Coste para maximizar:\n",
    "\n",
    "$ 0.03x_A + 0.04x_B + 0.035x_C + 0.028x_D + 0.032x_E $\n",
    "\n",
    "Restricciones:\n",
    "\n",
    "$\n",
    "3x_A + 2x_B + 4x_C + 2.5x_D + 3.5x_E \\leq 11 \\\\\n",
    "1x_A + 2x_B + 3x_C + 1.5x_D + 2x_E \\leq 15 \\\\\n",
    "2x_A + 1x_B + 2x_C + 1x_D + 3x_E \\leq 18 \\\\\n",
    "1x_A + 1x_B + 3x_C + 1x_D + 2.5x_E \\leq 16 \\\\\n",
    "1x_A + 3x_B + 1x_C + 2x_D + 3x_E \\leq 19 \\\\\n",
    "$\n",
    "\n",
    "\n",
    "El problema es expresado:\n",
    "\n",
    "$\n",
    "\\begin{align}\n",
    "min_{x_A,x_B,..} &-0.03x_A - 0.04x_B - 0.035x_C - 0.028x_D - 0.032x_E \\\\  \n",
    "\\\\\n",
    "                  & 3x_A + 2x_B + 4x_C + 2.5x_D + 3.5x_E \\leq 20 \\\\\n",
    "                  & 1x_A + 2x_B + 3x_C + 1.5x_D + 2x_E \\leq 15 \\\\\n",
    "                  & 2x_A + 1x_B + 2x_C + 1x_D + 3x_E \\leq 18 \\\\\n",
    "                  & 1x_A + 1x_B + 3x_C + 1x_D + 2.5x_E \\leq 16 \\\\\n",
    "                  & 1x_A + 3x_B + 1x_C + 2x_D + 3x_E \\leq 19 \\\\\n",
    "\\end{align}\n",
    "$\n",
    "\n"
   ]
  },
  {
   "cell_type": "code",
   "execution_count": 80,
   "metadata": {},
   "outputs": [
    {
     "data": {
      "text/plain": [
       "(array([-0.03 , -0.04 , -0.035, -0.028, -0.032]),\n",
       " array([[3. , 2. , 4. , 2.5, 3.5],\n",
       "        [1. , 2. , 3. , 1.5, 2. ],\n",
       "        [2. , 1. , 2. , 1. , 3. ],\n",
       "        [1. , 1. , 3. , 1. , 2.5],\n",
       "        [1. , 3. , 1. , 2. , 3. ]]),\n",
       " array([20, 15, 18, 16, 19]))"
      ]
     },
     "execution_count": 80,
     "metadata": {},
     "output_type": "execute_result"
    }
   ],
   "source": [
    "### 1.5 Solución del problema de optimización.\n",
    "c = np.array([-0.03, -0.04, -0.035, -0.028, -0.032])\n",
    "A_ub = np.array([\n",
    "    [3, 2, 4, 2.5, 3.5],    \n",
    "    [1, 2, 3, 1.5, 2],      \n",
    "    [2, 1, 2, 1, 3],        \n",
    "    [1, 1, 3, 1, 2.5],      \n",
    "    [1, 3, 1, 2, 3]])\n",
    "    \n",
    "b_ub = np.array([20, 15, 18, 16, 19])\n",
    "c, A_ub, b_ub"
   ]
  },
  {
   "cell_type": "code",
   "execution_count": 82,
   "metadata": {},
   "outputs": [
    {
     "data": {
      "text/plain": [
       "        message: Optimization terminated successfully. (HiGHS Status 7: Optimal)\n",
       "        success: True\n",
       "         status: 0\n",
       "            fun: -0.3057142857142857\n",
       "              x: [ 3.143e+00  5.286e+00  0.000e+00  0.000e+00  0.000e+00]\n",
       "            nit: 2\n",
       "          lower:  residual: [ 3.143e+00  5.286e+00  0.000e+00  0.000e+00\n",
       "                              0.000e+00]\n",
       "                 marginals: [ 0.000e+00  0.000e+00  2.143e-03  7.000e-03\n",
       "                              1.871e-02]\n",
       "          upper:  residual: [       inf        inf        inf        inf\n",
       "                                    inf]\n",
       "                 marginals: [ 0.000e+00  0.000e+00  0.000e+00  0.000e+00\n",
       "                              0.000e+00]\n",
       "          eqlin:  residual: []\n",
       "                 marginals: []\n",
       "        ineqlin:  residual: [ 0.000e+00  1.286e+00  6.429e+00  7.571e+00\n",
       "                              0.000e+00]\n",
       "                 marginals: [-7.143e-03 -0.000e+00 -0.000e+00 -0.000e+00\n",
       "                             -8.571e-03]\n",
       " mip_node_count: 0\n",
       " mip_dual_bound: 0.0\n",
       "        mip_gap: 0.0"
      ]
     },
     "execution_count": 82,
     "metadata": {},
     "output_type": "execute_result"
    }
   ],
   "source": [
    "sol_farma = opt.linprog(c,A_ub,b_ub)\n",
    "sol_farma"
   ]
  },
  {
   "cell_type": "code",
   "execution_count": 83,
   "metadata": {},
   "outputs": [
    {
     "data": {
      "text/plain": [
       "array([3.14285714, 5.28571429, 0.        , 0.        , 0.        ])"
      ]
     },
     "execution_count": 83,
     "metadata": {},
     "output_type": "execute_result"
    }
   ],
   "source": [
    "#Vector\n",
    "x = sol_farma.x\n",
    "x"
   ]
  },
  {
   "cell_type": "markdown",
   "metadata": {},
   "source": [
    "En conslución, para maximizar los intereses dentro de las restricciones de inversión total y tiempo de los analistas financieros, la mejor estrategia es invertir en 3 cuentas de tipo A y 5 cuentas de tipo B. Esto resulta en un interés máximo de 3.05. Todas las otras cuentas (C, D y E) no son necesarias para lograr la máxima rentabilidad."
   ]
  },
  {
   "cell_type": "markdown",
   "metadata": {},
   "source": [
    "___\n",
    "## 2. Especificaciones adicionales.\n",
    "En el grupo deben haber mínimo dos integrantes y máximo tres integrantes. Para propósitos logísticos nada más, por favor enumérense como *integrante 1*, *integrante 2* e *integrante 3*.\n",
    "\n",
    "### 2.1 Notebook de jupyter. \n",
    "> Los anteriores numerales los deben desarrollar todos en un notebook de jupyter y llamarlo de la siguiente manera `PM1_ApellidoN1_ApellidoN2_ApellidoN3`, donde `ApellidoNi` hace referencia al apellido paterno y la inicial del primer nombre del integrante `i`.\n",
    "\n",
    "## 2.2 Presentación.\n",
    "> Recuerden que la nota del proyecto es mitad el trabajo, y mitad la presentación. Deben hacer una presentación en power point para presentar el trabajo en la clase del **Miércoles 20 de Septiembre**. La presentación, además de llevar todos los componentes básicos descritos en el entregable, debe llevar una tabla de contenido.\n",
    "> - Presentación: 10 minutos.\n",
    "> - Seguir estas recomendaciones: https://es.slideshare.net/MeireComputacion/power-point-pautas-para-una-buen-trabajo"
   ]
  }
 ],
 "metadata": {
  "kernelspec": {
   "display_name": "Python 3 (ipykernel)",
   "language": "python",
   "name": "python3"
  },
  "language_info": {
   "codemirror_mode": {
    "name": "ipython",
    "version": 3
   },
   "file_extension": ".py",
   "mimetype": "text/x-python",
   "name": "python",
   "nbconvert_exporter": "python",
   "pygments_lexer": "ipython3",
   "version": "3.11.4"
  }
 },
 "nbformat": 4,
 "nbformat_minor": 2
}
